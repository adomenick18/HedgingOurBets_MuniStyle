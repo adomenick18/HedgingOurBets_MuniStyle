{
 "cells": [
  {
   "cell_type": "code",
   "execution_count": null,
   "metadata": {},
   "outputs": [],
   "source": [
    "#Hedging our bets muni-style"
   ]
  },
  {
   "cell_type": "code",
   "execution_count": 118,
   "metadata": {},
   "outputs": [],
   "source": [
    "#import statements for packages/libraries\n",
    "#which libraries do we need?\n",
    "#pyfolio\n",
    "#scipy\n",
    "#backtester\n",
    "\n",
    "import pandas as pd\n",
    "import numpy as np\n",
    "import datetime as dt\n",
    "from datetime import datetime\n",
    "from dateutil.relativedelta import relativedelta\n",
    "from pathlib import Path\n",
    "%matplotlib inline\n",
    "import matplotlib.pyplot as plt\n",
    "import plotly.express as px\n",
    "import hvplot.pandas\n",
    "from dotenv import load_dotenv\n",
    "import panel as pn\n",
    "from panel.interact import interact\n",
    "from panel import widgets\n",
    "import alpaca_trade_api as tradeapi\n",
    "import quandl\n",
    "import os\n",
    "import requests"
   ]
  },
  {
   "cell_type": "code",
   "execution_count": null,
   "metadata": {},
   "outputs": [],
   "source": [
    "#pull in data from API (7-ish years of data 1/1/2013-11/01/2020)\n",
    "#bonds--bloomberg\n",
    "#muni etf (MUB)--alpaca\n",
    "#swap--bloomberg or alpaca\n",
    "#treasury--quandl\n",
    "#treasury ETF (TLT)--alpaca"
   ]
  },
  {
   "cell_type": "code",
   "execution_count": 2,
   "metadata": {},
   "outputs": [
    {
     "data": {
      "text/plain": [
       "True"
      ]
     },
     "execution_count": 2,
     "metadata": {},
     "output_type": "execute_result"
    }
   ],
   "source": [
    "load_dotenv()"
   ]
  },
  {
   "cell_type": "code",
   "execution_count": 11,
   "metadata": {},
   "outputs": [],
   "source": [
    "#import\n",
    "\n",
    "api_key_QD = os.getenv(\"QUANDL_API_KEY\")\n",
    "alpaca_api_key = os.getenv(\"ALPACA_API_KEY\")\n",
    "alpaca_secret_key = os.getenv(\"ALPACA_SECRET_KEY\")\n",
    "# type(api_key_QD)\n",
    "# type(alpaca_api_key)"
   ]
  },
  {
   "cell_type": "code",
   "execution_count": 12,
   "metadata": {},
   "outputs": [],
   "source": [
    "#import alpaca api file for ETF price history\n",
    "alpaca = tradeapi.REST(\n",
    "    alpaca_api_key,\n",
    "    alpaca_secret_key,\n",
    "    api_version=\"v2\")\n",
    "\n",
    "# Format current date as ISO format\n",
    "start_date = pd.Timestamp(\"2013-01-02\", tz=\"America/New_York\").isoformat()\n",
    "today = pd.Timestamp(\"2020-11-02\", tz=\"America/New_York\").isoformat()\n",
    "\n",
    "# Set the tickers\n",
    "tickers = [\"MUB\", \"TLT\", \"UDN\", \"UUP\",\"LQD\",\"JNK\"]\n",
    "\n",
    "# Set timeframe to '1D' for Alpaca API\n",
    "timeframe = \"1D\"\n",
    "\n",
    "# Get closing prices\n",
    "df_ETFs = alpaca.get_barset(\n",
    "    tickers,\n",
    "    timeframe,\n",
    "    start = start_date,\n",
    "    end = today\n",
    ").df\n",
    "\n",
    "# Preview DataFrame\n",
    "# YOUR CODE HERE!\n",
    "df_ETFs.head()\n",
    "\n",
    "# Output the data to CSV\n",
    "df_ETFs.to_csv(\"Resources/ETFs1.csv\", encoding='utf-8', index=True)"
   ]
  },
  {
   "cell_type": "code",
   "execution_count": 41,
   "metadata": {},
   "outputs": [
    {
     "data": {
      "text/html": [
       "<div>\n",
       "<style scoped>\n",
       "    .dataframe tbody tr th:only-of-type {\n",
       "        vertical-align: middle;\n",
       "    }\n",
       "\n",
       "    .dataframe tbody tr th {\n",
       "        vertical-align: top;\n",
       "    }\n",
       "\n",
       "    .dataframe thead th {\n",
       "        text-align: right;\n",
       "    }\n",
       "</style>\n",
       "<table border=\"1\" class=\"dataframe\">\n",
       "  <thead>\n",
       "    <tr style=\"text-align: right;\">\n",
       "      <th></th>\n",
       "      <th>JNK</th>\n",
       "      <th>LQD</th>\n",
       "      <th>MUB</th>\n",
       "      <th>TLT</th>\n",
       "      <th>UDN</th>\n",
       "      <th>UUP</th>\n",
       "    </tr>\n",
       "  </thead>\n",
       "  <tbody>\n",
       "    <tr>\n",
       "      <th>2013-01-03</th>\n",
       "      <td>-0.002194</td>\n",
       "      <td>-0.005525</td>\n",
       "      <td>0.000002</td>\n",
       "      <td>-0.013632</td>\n",
       "      <td>-0.008094</td>\n",
       "      <td>0.007791</td>\n",
       "    </tr>\n",
       "    <tr>\n",
       "      <th>2013-01-04</th>\n",
       "      <td>0.001221</td>\n",
       "      <td>-0.000415</td>\n",
       "      <td>-0.001968</td>\n",
       "      <td>0.003900</td>\n",
       "      <td>-0.000371</td>\n",
       "      <td>0.000000</td>\n",
       "    </tr>\n",
       "    <tr>\n",
       "      <th>2013-01-07</th>\n",
       "      <td>0.002196</td>\n",
       "      <td>0.001410</td>\n",
       "      <td>0.001434</td>\n",
       "      <td>0.000210</td>\n",
       "      <td>0.003340</td>\n",
       "      <td>-0.002729</td>\n",
       "    </tr>\n",
       "    <tr>\n",
       "      <th>2013-01-08</th>\n",
       "      <td>-0.000487</td>\n",
       "      <td>0.001077</td>\n",
       "      <td>0.001790</td>\n",
       "      <td>0.006714</td>\n",
       "      <td>-0.001294</td>\n",
       "      <td>0.000912</td>\n",
       "    </tr>\n",
       "    <tr>\n",
       "      <th>2013-01-09</th>\n",
       "      <td>0.000974</td>\n",
       "      <td>-0.000153</td>\n",
       "      <td>0.002501</td>\n",
       "      <td>-0.001007</td>\n",
       "      <td>-0.003148</td>\n",
       "      <td>0.002733</td>\n",
       "    </tr>\n",
       "  </tbody>\n",
       "</table>\n",
       "</div>"
      ],
      "text/plain": [
       "                 JNK       LQD       MUB       TLT       UDN       UUP\n",
       "2013-01-03 -0.002194 -0.005525  0.000002 -0.013632 -0.008094  0.007791\n",
       "2013-01-04  0.001221 -0.000415 -0.001968  0.003900 -0.000371  0.000000\n",
       "2013-01-07  0.002196  0.001410  0.001434  0.000210  0.003340 -0.002729\n",
       "2013-01-08 -0.000487  0.001077  0.001790  0.006714 -0.001294  0.000912\n",
       "2013-01-09  0.000974 -0.000153  0.002501 -0.001007 -0.003148  0.002733"
      ]
     },
     "execution_count": 41,
     "metadata": {},
     "output_type": "execute_result"
    }
   ],
   "source": [
    "ETF_csv = Path(\"Resources/ETFs.csv\")\n",
    "ETF_df = pd.read_csv(ETF_csv, index_col='Unnamed: 0', infer_datetime_format=True, parse_dates=True)\n",
    "#ETF_df.rename(columns={'Unnamed: 0': 'Date'}, inplace = True)\n",
    "ETF_df = ETF_df.drop(ETF_df.index[0])\n",
    "#ETF_df['Date'] = pd.to_datetime(ETF_df['Date'], utc=True)\n",
    "ETF_df.index = pd.to_datetime(ETF_df.index, utc=True).date\n",
    "#ETF_df['Date']= ETF_df['Date'].dt.strftime('%m/%d/%Y')\n",
    "ETF_df.sort_index(inplace=True)\n",
    "\n",
    "#drop unneccessary columns and keep close price columns\n",
    "ETF_close_prices_df = ETF_df.loc[:, ['JNK.3', 'LQD.3', 'MUB.3', 'TLT.3', 'UDN.3', 'UUP.3']]\n",
    "ETF_close_prices_df.rename(columns={'JNK.3': 'JNK',\n",
    "                   'LQD.3': 'LQD',\n",
    "                   'MUB.3': 'MUB',\n",
    "                   'TLT.3': 'TLT',\n",
    "                   'UDN.3': 'UDN',\n",
    "                   'UUP.3': 'UUP',\n",
    "                  }, inplace=True)\n",
    "\n",
    "ETF_close_prices_df[['JNK', 'LQD', 'MUB', 'TLT', 'UDN', 'UUP']] = ETF_close_prices_df[['JNK', 'LQD', 'MUB', 'TLT', 'UDN', 'UUP']].astype(float)\n",
    "ETF_close_prices_df.dtypes\n",
    "\n",
    "#calculate daily returns\n",
    "ETF_daily_returns_df = ETF_close_prices_df.pct_change().dropna()\n",
    "ETF_daily_returns_df.head()"
   ]
  },
  {
   "cell_type": "code",
   "execution_count": 217,
   "metadata": {},
   "outputs": [
    {
     "data": {
      "text/html": [
       "<div>\n",
       "<style scoped>\n",
       "    .dataframe tbody tr th:only-of-type {\n",
       "        vertical-align: middle;\n",
       "    }\n",
       "\n",
       "    .dataframe tbody tr th {\n",
       "        vertical-align: top;\n",
       "    }\n",
       "\n",
       "    .dataframe thead tr th {\n",
       "        text-align: left;\n",
       "    }\n",
       "\n",
       "    .dataframe thead tr:last-of-type th {\n",
       "        text-align: right;\n",
       "    }\n",
       "</style>\n",
       "<table border=\"1\" class=\"dataframe\">\n",
       "  <thead>\n",
       "    <tr>\n",
       "      <th></th>\n",
       "      <th>1</th>\n",
       "      <th>2</th>\n",
       "      <th>3</th>\n",
       "      <th>5</th>\n",
       "      <th>7</th>\n",
       "      <th>10</th>\n",
       "      <th>20</th>\n",
       "      <th>30</th>\n",
       "    </tr>\n",
       "    <tr>\n",
       "      <th>Date</th>\n",
       "      <th></th>\n",
       "      <th></th>\n",
       "      <th></th>\n",
       "      <th></th>\n",
       "      <th></th>\n",
       "      <th></th>\n",
       "      <th></th>\n",
       "      <th></th>\n",
       "    </tr>\n",
       "  </thead>\n",
       "  <tbody>\n",
       "    <tr>\n",
       "      <th>2013-01-04</th>\n",
       "      <td>0.000000e+00</td>\n",
       "      <td>0.000000</td>\n",
       "      <td>0.000596</td>\n",
       "      <td>0.001961</td>\n",
       "      <td>0.003348</td>\n",
       "      <td>0.004555</td>\n",
       "      <td>0.010880</td>\n",
       "      <td>0.019705</td>\n",
       "    </tr>\n",
       "    <tr>\n",
       "      <th>2013-01-07</th>\n",
       "      <td>0.000000e+00</td>\n",
       "      <td>0.000000</td>\n",
       "      <td>0.000298</td>\n",
       "      <td>0.000489</td>\n",
       "      <td>0.001334</td>\n",
       "      <td>0.001813</td>\n",
       "      <td>0.000000</td>\n",
       "      <td>-0.003873</td>\n",
       "    </tr>\n",
       "    <tr>\n",
       "      <th>2013-01-08</th>\n",
       "      <td>9.989510e-05</td>\n",
       "      <td>0.000399</td>\n",
       "      <td>0.000894</td>\n",
       "      <td>0.001468</td>\n",
       "      <td>0.001335</td>\n",
       "      <td>0.001814</td>\n",
       "      <td>0.006173</td>\n",
       "      <td>0.007816</td>\n",
       "    </tr>\n",
       "    <tr>\n",
       "      <th>2013-01-09</th>\n",
       "      <td>7.485769e-09</td>\n",
       "      <td>-0.000199</td>\n",
       "      <td>-0.000595</td>\n",
       "      <td>-0.000488</td>\n",
       "      <td>-0.001332</td>\n",
       "      <td>-0.001809</td>\n",
       "      <td>-0.004600</td>\n",
       "      <td>-0.007755</td>\n",
       "    </tr>\n",
       "    <tr>\n",
       "      <th>2013-01-10</th>\n",
       "      <td>-1.997777e-04</td>\n",
       "      <td>-0.000598</td>\n",
       "      <td>-0.000298</td>\n",
       "      <td>-0.002444</td>\n",
       "      <td>-0.002667</td>\n",
       "      <td>-0.003624</td>\n",
       "      <td>-0.006156</td>\n",
       "      <td>-0.003898</td>\n",
       "    </tr>\n",
       "  </tbody>\n",
       "</table>\n",
       "</div>"
      ],
      "text/plain": [
       "                       1         2         3         5         7        10  \\\n",
       "Date                                                                         \n",
       "2013-01-04  0.000000e+00  0.000000  0.000596  0.001961  0.003348  0.004555   \n",
       "2013-01-07  0.000000e+00  0.000000  0.000298  0.000489  0.001334  0.001813   \n",
       "2013-01-08  9.989510e-05  0.000399  0.000894  0.001468  0.001335  0.001814   \n",
       "2013-01-09  7.485769e-09 -0.000199 -0.000595 -0.000488 -0.001332 -0.001809   \n",
       "2013-01-10 -1.997777e-04 -0.000598 -0.000298 -0.002444 -0.002667 -0.003624   \n",
       "\n",
       "                  20        30  \n",
       "Date                            \n",
       "2013-01-04  0.010880  0.019705  \n",
       "2013-01-07  0.000000 -0.003873  \n",
       "2013-01-08  0.006173  0.007816  \n",
       "2013-01-09 -0.004600 -0.007755  \n",
       "2013-01-10 -0.006156 -0.003898  "
      ]
     },
     "execution_count": 217,
     "metadata": {},
     "output_type": "execute_result"
    }
   ],
   "source": [
    "#import quandl api file for US Treasury Rate history\n",
    "USTREASURY_data = quandl.get('USTREASURY/YIELD', start_date='2013-01-01', end_date='2020-11-06',authtoken=api_key_QD)\n",
    "#USTREASURY_data.to_csv('Resources/USTREASURY1.csv', encoding='utf-8', index=True)\n",
    "USTREASURY_data.head()\n",
    "columns_to_drop = ['1 MO', '2 MO', '3 MO', '6 MO']\n",
    "USTREASURY_data.drop(columns=columns_to_drop, inplace=True)\n",
    "USTREASURY_data.sort_index(inplace=True)\n",
    "\n",
    "#create new dataframe with maturity values\n",
    "columns = []\n",
    "tsy_mty_df = USTREASURY_data.copy()\n",
    "for column in USTREASURY_data.columns:\n",
    "    maturity = ''\n",
    "    for item in column.split():\n",
    "        if item.isdigit():\n",
    "            maturity = maturity + item\n",
    "    #print(int(maturity[0]))\n",
    "    tsy_mty_df[column] = int(maturity)\n",
    "    columns.append(maturity)\n",
    "USTREASURY_data.columns = [columns]\n",
    "tsy_mty_df.columns = [columns]\n",
    "\n",
    "#USTREASURY_data.head()\n",
    "#tsy_mty_df.head()\n",
    "\n",
    "#define function for calculating Treasury bond prices\n",
    "def bondprice(fv, c, ytm, t, m):\n",
    "    bondprice = ((fv*c/m*(1-(1+ytm/m)**(-m*t)))/(ytm/m)) + fv*(1+(ytm/m))**(-m*t)\n",
    "    return(bondprice)\n",
    "\n",
    "#bondprice(1000,0.06,0.08,9,2)\n",
    "bondprice(100,0.0015,0.0014,1,2)\n",
    "\n",
    "#create new dataframe with treasury bond prices\n",
    "fv = 100\n",
    "c = USTREASURY_data.shift(1)/100\n",
    "ytm = USTREASURY_data/100\n",
    "m = 2\n",
    "t = tsy_mty_df\n",
    "USTREASURY_daily_prices = bondprice(fv, c, ytm, t, m)\n",
    "\n",
    "USTREASURY_data_daily_returns = USTREASURY_daily_prices.pct_change().dropna()\n",
    "USTREASURY_data_daily_returns.head()"
   ]
  },
  {
   "cell_type": "code",
   "execution_count": 208,
   "metadata": {},
   "outputs": [
    {
     "data": {
      "text/plain": [
       "DatetimeIndex(['2013-01-04', '2013-01-07', '2013-01-08', '2013-01-09',\n",
       "               '2013-01-10', '2013-01-11', '2013-01-14', '2013-01-15',\n",
       "               '2013-01-16', '2013-01-17',\n",
       "               ...\n",
       "               '2020-10-19', '2020-10-20', '2020-10-21', '2020-10-22',\n",
       "               '2020-10-23', '2020-10-26', '2020-10-27', '2020-10-28',\n",
       "               '2020-10-29', '2020-10-30'],\n",
       "              dtype='datetime64[ns]', name='Date', length=1957, freq=None)"
      ]
     },
     "execution_count": 208,
     "metadata": {},
     "output_type": "execute_result"
    }
   ],
   "source": [
    "# pull in LIBOR swaps to create pct_change df\n",
    "## the sort_index for dates doesn't seem to be working...\n",
    "swaps_csv = Path(\"Resources/libor_swaps.csv\")\n",
    "swaps_df = pd.read_csv(swaps_csv, index_col='Date', infer_datetime_format=True, parse_dates=True)\n",
    "#swaps_df.set_index('Date',inplace=True)\n",
    "swaps_df.sort_index(inplace=True)\n",
    "\n",
    "swaps_mty_df = swaps_df.copy()\n",
    "for column in swaps_df.columns:\n",
    "    swaps_mty_df[column] = int(column)\n",
    "\n",
    "#create new dataframe with libor swap value (using bond price function)\n",
    "fv = 100\n",
    "c = swaps_df.shift(1)/100\n",
    "ytm = swaps_df/100\n",
    "m = 2\n",
    "t = swaps_mty_df\n",
    "swaps_df_values = bondprice(fv, c, ytm, t, m)\n",
    "\n",
    "swaps_daily_returns = swaps_df_values.pct_change().dropna()\n",
    "swaps_daily_returns.index"
   ]
  },
  {
   "cell_type": "code",
   "execution_count": 169,
   "metadata": {},
   "outputs": [
    {
     "data": {
      "text/plain": [
       "DatetimeIndex(['2013-01-01', '2013-01-02', '2013-01-03', '2013-01-04',\n",
       "               '2013-01-05', '2013-01-06', '2013-01-07', '2013-01-08',\n",
       "               '2013-01-09', '2013-01-10',\n",
       "               ...\n",
       "               '2020-10-23', '2020-10-24', '2020-10-25', '2020-10-26',\n",
       "               '2020-10-27', '2020-10-28', '2020-10-29', '2020-10-30',\n",
       "               '2020-10-31', '2020-11-01'],\n",
       "              dtype='datetime64[ns]', name='Date', length=2862, freq=None)"
      ]
     },
     "execution_count": 169,
     "metadata": {},
     "output_type": "execute_result"
    }
   ],
   "source": [
    "#pull in bond prices and create dataframe\n",
    "bonds_csv = Path(\"Resources/bonds_example_prices.csv\")\n",
    "bonds_df = pd.read_csv(bonds_csv, index_col='Date',infer_datetime_format=True, parse_dates=True)\n",
    "bonds_df.sort_index(inplace=True)\n",
    "\n",
    "#need to wait to dropna after concat within the correlation function\n",
    "bonds_daily_returns = bonds_df.pct_change()\n",
    "bonds_daily_returns.index"
   ]
  },
  {
   "cell_type": "code",
   "execution_count": 67,
   "metadata": {},
   "outputs": [
    {
     "data": {
      "text/html": [
       "<div>\n",
       "<style scoped>\n",
       "    .dataframe tbody tr th:only-of-type {\n",
       "        vertical-align: middle;\n",
       "    }\n",
       "\n",
       "    .dataframe tbody tr th {\n",
       "        vertical-align: top;\n",
       "    }\n",
       "\n",
       "    .dataframe thead th {\n",
       "        text-align: right;\n",
       "    }\n",
       "</style>\n",
       "<table border=\"1\" class=\"dataframe\">\n",
       "  <thead>\n",
       "    <tr style=\"text-align: right;\">\n",
       "      <th></th>\n",
       "      <th>Security</th>\n",
       "      <th>Coupon</th>\n",
       "      <th>Next Call Date</th>\n",
       "      <th>Maturity Date</th>\n",
       "      <th>Bloomberg Composite Rating</th>\n",
       "      <th>U.S States</th>\n",
       "    </tr>\n",
       "    <tr>\n",
       "      <th>CUSIP</th>\n",
       "      <th></th>\n",
       "      <th></th>\n",
       "      <th></th>\n",
       "      <th></th>\n",
       "      <th></th>\n",
       "      <th></th>\n",
       "    </tr>\n",
       "  </thead>\n",
       "  <tbody>\n",
       "    <tr>\n",
       "      <th>546417DJ2</th>\n",
       "      <td>LOUISIANA ST -B -REF</td>\n",
       "      <td>5.0</td>\n",
       "      <td>NaN</td>\n",
       "      <td>11/15/2020</td>\n",
       "      <td>AA-</td>\n",
       "      <td>LA</td>\n",
       "    </tr>\n",
       "    <tr>\n",
       "      <th>59259YQW2</th>\n",
       "      <td>MET TRANS-D-REF</td>\n",
       "      <td>5.0</td>\n",
       "      <td>NaN</td>\n",
       "      <td>11/15/2020</td>\n",
       "      <td>BBB+</td>\n",
       "      <td>NY</td>\n",
       "    </tr>\n",
       "    <tr>\n",
       "      <th>59261AJX6</th>\n",
       "      <td>MET TRANSPRTN AUTH NY</td>\n",
       "      <td>5.0</td>\n",
       "      <td>NaN</td>\n",
       "      <td>11/15/2020</td>\n",
       "      <td>BBB+</td>\n",
       "      <td>NY</td>\n",
       "    </tr>\n",
       "    <tr>\n",
       "      <th>89602NZX5</th>\n",
       "      <td>TRIBORO BRDG-B</td>\n",
       "      <td>5.0</td>\n",
       "      <td>NaN</td>\n",
       "      <td>11/15/2020</td>\n",
       "      <td>AA-</td>\n",
       "      <td>NY</td>\n",
       "    </tr>\n",
       "    <tr>\n",
       "      <th>13063CHQ6</th>\n",
       "      <td>CALIFORNIA ST-VARIOUS</td>\n",
       "      <td>5.0</td>\n",
       "      <td>NaN</td>\n",
       "      <td>12/01/2020</td>\n",
       "      <td>AA-</td>\n",
       "      <td>CA</td>\n",
       "    </tr>\n",
       "  </tbody>\n",
       "</table>\n",
       "</div>"
      ],
      "text/plain": [
       "                        Security  Coupon Next Call Date Maturity Date  \\\n",
       "CUSIP                                                                   \n",
       "546417DJ2   LOUISIANA ST -B -REF     5.0            NaN    11/15/2020   \n",
       "59259YQW2        MET TRANS-D-REF     5.0            NaN    11/15/2020   \n",
       "59261AJX6  MET TRANSPRTN AUTH NY     5.0            NaN    11/15/2020   \n",
       "89602NZX5         TRIBORO BRDG-B     5.0            NaN    11/15/2020   \n",
       "13063CHQ6  CALIFORNIA ST-VARIOUS     5.0            NaN    12/01/2020   \n",
       "\n",
       "          Bloomberg Composite Rating U.S States  \n",
       "CUSIP                                            \n",
       "546417DJ2                        AA-         LA  \n",
       "59259YQW2                       BBB+         NY  \n",
       "59261AJX6                       BBB+         NY  \n",
       "89602NZX5                        AA-         NY  \n",
       "13063CHQ6                        AA-         CA  "
      ]
     },
     "execution_count": 67,
     "metadata": {},
     "output_type": "execute_result"
    }
   ],
   "source": [
    "#pull in bond descriptions to dataframe\n",
    "bondescr_csv = Path(\"Resources/muni_hedge_characteristics.csv\")\n",
    "bondescr_df = pd.read_csv(bondescr_csv)\n",
    "\n",
    "cleaned_cusips = []\n",
    "for cusipid in bondescr_df['CUSIP']:\n",
    "    cusipid = cusipid.strip()\n",
    "    cleaned_cusips.append(cusipid)\n",
    "\n",
    "bondescr_df['CUSIP'] = cleaned_cusips\n",
    "\n",
    "bondescr_df.set_index('CUSIP',inplace=True)\n",
    "bondescr_df.head()"
   ]
  },
  {
   "cell_type": "code",
   "execution_count": 68,
   "metadata": {},
   "outputs": [
    {
     "data": {
      "text/plain": [
       "Index(['546417DJ2', '59259YQW2', '59261AJX6', '89602NZX5', '13063CHQ6',\n",
       "       '167724AA1', '452252HQ5', '837151NL9', '542424VF0', '645916Z59',\n",
       "       ...\n",
       "       '677632PA3', '91412GHA6', '254845JZ4', '677704A65', '91412GC86',\n",
       "       '915217WX7', '783186TP4', '915217XA6', '91335VKQ8', '913366KD1'],\n",
       "      dtype='object', name='CUSIP', length=6711)"
      ]
     },
     "execution_count": 68,
     "metadata": {},
     "output_type": "execute_result"
    }
   ],
   "source": [
    "bondescr_df.index"
   ]
  },
  {
   "cell_type": "code",
   "execution_count": 127,
   "metadata": {},
   "outputs": [
    {
     "data": {
      "text/plain": [
       "datetime.datetime(2021, 1, 1, 0, 0)"
      ]
     },
     "execution_count": 127,
     "metadata": {},
     "output_type": "execute_result"
    }
   ],
   "source": [
    "#function passing a cusip to put it against hedges\n",
    "#what are the steps we need our function to do:\n",
    "    #1.pick bond\n",
    "    #2. compare versus all hedges\n",
    "    #3. show correlation of bond vis a vis different hedges\n",
    "#ETF_daily_returns_df, USTREASURY_data_daily_returns, swaps_daily_returns, bonds_daily_returns  \n",
    "cusip = '6581965D8'\n",
    "#def historical_corr(cusip):\n",
    "# find maturity of chosen muni bond and convert to datetime\n",
    "bond_mty = bondescr_df.loc[cusip,'Maturity Date']\n",
    "bond_mty = dt.datetime.strptime(bond_mty, '%m/%d/%Y')\n",
    "bond_mty"
   ]
  },
  {
   "cell_type": "code",
   "execution_count": 174,
   "metadata": {},
   "outputs": [
    {
     "data": {
      "text/plain": [
       "2862"
      ]
     },
     "execution_count": 174,
     "metadata": {},
     "output_type": "execute_result"
    }
   ],
   "source": [
    "# create series with bond years to maturity for lookup in dataframes\n",
    "# relativedelta function: https://dateutil.readthedocs.io/en/stable/relativedelta.html\n",
    "## make output for years more exact by looking at days/360 and rounding?\n",
    "mty_years = []\n",
    "for return_date in bonds_daily_returns.index:\n",
    "    difference = relativedelta(bond_mty, return_date)\n",
    "    mty_years.append(difference.years)\n",
    "len(mty_years)"
   ]
  },
  {
   "cell_type": "code",
   "execution_count": 182,
   "metadata": {},
   "outputs": [
    {
     "data": {
      "text/plain": [
       "2862"
      ]
     },
     "execution_count": 182,
     "metadata": {},
     "output_type": "execute_result"
    }
   ],
   "source": [
    "# reference closest maturity in tsy and swap df\n",
    "# USTREASURY_data_daily_returns, swaps_daily_returns, mty_years\n",
    "tsy_index = []\n",
    "for item in mty_years:\n",
    "    min_item = ' '\n",
    "    min_value = 0\n",
    "    for col in USTREASURY_data_daily_returns.columns:\n",
    "        if min_item == ' ':\n",
    "            min_item = int(col[0])\n",
    "            min_value = abs(int(col[0]) - int(item))\n",
    "        elif abs(int(col[0]) - int(item)) < min_value:\n",
    "            min_item = int(col[0])\n",
    "            min_value = abs(int(col[0]) - int(item))\n",
    "    tsy_index.append(min_item)\n",
    "\n",
    "swap_index = []\n",
    "for item in mty_years:\n",
    "    min_item = ' '\n",
    "    min_value = 0\n",
    "    for col in swaps_daily_returns.columns:\n",
    "        if min_item == ' ':\n",
    "            min_item = int(col[0])\n",
    "            min_value = abs(int(col[0]) - int(item))\n",
    "        elif abs(int(col[0]) - int(item)) < min_value:\n",
    "            min_item = int(col[0])\n",
    "            min_value = abs(int(col[0]) - int(item))\n",
    "    swap_index.append(min_item)\n",
    "#len(swap_index)\n",
    "len(tsy_index)"
   ]
  },
  {
   "cell_type": "code",
   "execution_count": 226,
   "metadata": {},
   "outputs": [
    {
     "data": {
      "text/html": [
       "<div>\n",
       "<style scoped>\n",
       "    .dataframe tbody tr th:only-of-type {\n",
       "        vertical-align: middle;\n",
       "    }\n",
       "\n",
       "    .dataframe tbody tr th {\n",
       "        vertical-align: top;\n",
       "    }\n",
       "\n",
       "    .dataframe thead th {\n",
       "        text-align: right;\n",
       "    }\n",
       "</style>\n",
       "<table border=\"1\" class=\"dataframe\">\n",
       "  <thead>\n",
       "    <tr style=\"text-align: right;\">\n",
       "      <th></th>\n",
       "      <th>6581965D8</th>\n",
       "      <th>tsy_index</th>\n",
       "    </tr>\n",
       "    <tr>\n",
       "      <th>Date</th>\n",
       "      <th></th>\n",
       "      <th></th>\n",
       "    </tr>\n",
       "  </thead>\n",
       "  <tbody>\n",
       "    <tr>\n",
       "      <th>2013-01-01</th>\n",
       "      <td>NaN</td>\n",
       "      <td>7</td>\n",
       "    </tr>\n",
       "    <tr>\n",
       "      <th>2013-01-02</th>\n",
       "      <td>0.001655</td>\n",
       "      <td>7</td>\n",
       "    </tr>\n",
       "    <tr>\n",
       "      <th>2013-01-03</th>\n",
       "      <td>0.003139</td>\n",
       "      <td>7</td>\n",
       "    </tr>\n",
       "    <tr>\n",
       "      <th>2013-01-04</th>\n",
       "      <td>-0.003377</td>\n",
       "      <td>7</td>\n",
       "    </tr>\n",
       "    <tr>\n",
       "      <th>2013-01-05</th>\n",
       "      <td>0.000000</td>\n",
       "      <td>7</td>\n",
       "    </tr>\n",
       "  </tbody>\n",
       "</table>\n",
       "</div>"
      ],
      "text/plain": [
       "            6581965D8  tsy_index\n",
       "Date                            \n",
       "2013-01-01        NaN          7\n",
       "2013-01-02   0.001655          7\n",
       "2013-01-03   0.003139          7\n",
       "2013-01-04  -0.003377          7\n",
       "2013-01-05   0.000000          7"
      ]
     },
     "execution_count": 226,
     "metadata": {},
     "output_type": "execute_result"
    }
   ],
   "source": [
    "# create new dataframe to combine items\n",
    "# USTREASURY_data_daily_returns, swaps_daily_returns, mty_years\n",
    "joined_df = pd.DataFrame(bonds_daily_returns[cusip])\n",
    "joined_df['tsy_index'] = tsy_index\n",
    "#joined_df = pd.concat([joined_df, USTREASURY_data_daily_returns], join=\"outer\")\n",
    "joined_df.head()"
   ]
  },
  {
   "cell_type": "code",
   "execution_count": 225,
   "metadata": {},
   "outputs": [],
   "source": [
    "# look up corresponding TSY change data in tsy df\n",
    "#column_index = joined_df.shift(periods=-1, axis=\"columns\")\n",
    "#joined_df['tsy_change'] = USTREASURY_data_daily_returns.loc[joined_df.index, column_index]\n",
    "tsy_change = []\n",
    "for indx in joined_df.index:\n",
    "    #datetime_conv = pd.to_datetime(indx, utc=True).date\n",
    "    #formatted_dt = dt.datetime.strftime(datetime_conv, '%Y-%m-%d')\n",
    "    #change = USTREASURY_data_daily_returns.loc[datetime_conv, joined_df['tsy_index'][indx]]\n",
    "    #print(indx)\n",
    "    next"
   ]
  },
  {
   "cell_type": "code",
   "execution_count": 183,
   "metadata": {},
   "outputs": [
    {
     "data": {
      "text/html": [
       "<div>\n",
       "<style scoped>\n",
       "    .dataframe tbody tr th:only-of-type {\n",
       "        vertical-align: middle;\n",
       "    }\n",
       "\n",
       "    .dataframe tbody tr th {\n",
       "        vertical-align: top;\n",
       "    }\n",
       "\n",
       "    .dataframe thead th {\n",
       "        text-align: right;\n",
       "    }\n",
       "</style>\n",
       "<table border=\"1\" class=\"dataframe\">\n",
       "  <thead>\n",
       "    <tr style=\"text-align: right;\">\n",
       "      <th></th>\n",
       "      <th>6581965D8</th>\n",
       "      <th>tsy_index</th>\n",
       "      <th>swap_index</th>\n",
       "    </tr>\n",
       "    <tr>\n",
       "      <th>Date</th>\n",
       "      <th></th>\n",
       "      <th></th>\n",
       "      <th></th>\n",
       "    </tr>\n",
       "  </thead>\n",
       "  <tbody>\n",
       "    <tr>\n",
       "      <th>2013-01-01</th>\n",
       "      <td>NaN</td>\n",
       "      <td>7</td>\n",
       "      <td>8</td>\n",
       "    </tr>\n",
       "    <tr>\n",
       "      <th>2013-01-02</th>\n",
       "      <td>0.001655</td>\n",
       "      <td>7</td>\n",
       "      <td>7</td>\n",
       "    </tr>\n",
       "    <tr>\n",
       "      <th>2013-01-03</th>\n",
       "      <td>0.003139</td>\n",
       "      <td>7</td>\n",
       "      <td>7</td>\n",
       "    </tr>\n",
       "    <tr>\n",
       "      <th>2013-01-04</th>\n",
       "      <td>-0.003377</td>\n",
       "      <td>7</td>\n",
       "      <td>7</td>\n",
       "    </tr>\n",
       "    <tr>\n",
       "      <th>2013-01-05</th>\n",
       "      <td>0.000000</td>\n",
       "      <td>7</td>\n",
       "      <td>7</td>\n",
       "    </tr>\n",
       "  </tbody>\n",
       "</table>\n",
       "</div>"
      ],
      "text/plain": [
       "            6581965D8  tsy_index  swap_index\n",
       "Date                                        \n",
       "2013-01-01        NaN          7           8\n",
       "2013-01-02   0.001655          7           7\n",
       "2013-01-03   0.003139          7           7\n",
       "2013-01-04  -0.003377          7           7\n",
       "2013-01-05   0.000000          7           7"
      ]
     },
     "execution_count": 183,
     "metadata": {},
     "output_type": "execute_result"
    }
   ],
   "source": [
    "joined_df['swap_index'] = swap_index\n",
    "joined_df.head()"
   ]
  },
  {
   "cell_type": "code",
   "execution_count": null,
   "metadata": {},
   "outputs": [],
   "source": [
    "##concat separate dataframes (bonds, muni etf, swap, treasury, treasury etf)"
   ]
  },
  {
   "cell_type": "code",
   "execution_count": null,
   "metadata": {},
   "outputs": [],
   "source": [
    "## calculate standard deviation"
   ]
  },
  {
   "cell_type": "code",
   "execution_count": null,
   "metadata": {},
   "outputs": [],
   "source": [
    "## calculate sharpe ratios"
   ]
  },
  {
   "cell_type": "code",
   "execution_count": null,
   "metadata": {},
   "outputs": [],
   "source": [
    "# correlation matrix for individual bond vs different hedges--visualization with interaction?"
   ]
  }
 ],
 "metadata": {
  "kernelspec": {
   "display_name": "pyvizenv",
   "language": "python",
   "name": "pyvizenv"
  },
  "language_info": {
   "codemirror_mode": {
    "name": "ipython",
    "version": 3
   },
   "file_extension": ".py",
   "mimetype": "text/x-python",
   "name": "python",
   "nbconvert_exporter": "python",
   "pygments_lexer": "ipython3",
   "version": "3.7.7"
  }
 },
 "nbformat": 4,
 "nbformat_minor": 4
}
